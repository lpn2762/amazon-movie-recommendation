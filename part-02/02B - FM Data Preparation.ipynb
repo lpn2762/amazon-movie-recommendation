{
 "cells": [
  {
   "cell_type": "code",
   "execution_count": 190,
   "metadata": {
    "collapsed": true
   },
   "outputs": [],
   "source": [
    "import pandas as pd\n",
    "import numpy as np\n",
    "import sys\n",
    "import os\n",
    "import pickle as pkl\n",
    "\n",
    "from scipy.sparse import csr_matrix, hstack, vstack"
   ]
  },
  {
   "cell_type": "code",
   "execution_count": 192,
   "metadata": {},
   "outputs": [],
   "source": [
    "data_path_1 = os.path.join('..','data')\n",
    "data_path_2 = os.path.join('..','data-2')\n",
    "\n",
    "df = pd.read_csv(os.path.join(data_path_1, 'reviews_sample_100.csv')).drop(['Unnamed: 0', 'reviewTime'], axis = 1)\n",
    "df.columns = ['item', 'user', 'rating']\n",
    "X_user_item = df.drop('rating', axis = 1)"
   ]
  },
  {
   "cell_type": "code",
   "execution_count": 194,
   "metadata": {},
   "outputs": [],
   "source": [
    "use_pretrain = True\n",
    "if use_pretrain:\n",
    "    with open(os.path.join(data_path_2, 'data_sparse_basic.csr'), 'rb') as file:\n",
    "        x = pkl.load(file)\n",
    "else:\n",
    "    df_test = pd.get_dummies(X_user_item)\n",
    "    x = csr_matrix(df_test.values)\n",
    "    with open(os.path.join(data_path_2, 'data_sparse_basic.csr'), 'wb') as file:\n",
    "        pkl.dump(x, file)"
   ]
  }
 ],
 "metadata": {
  "kernelspec": {
   "display_name": "Python 3",
   "language": "python",
   "name": "python3"
  },
  "language_info": {
   "codemirror_mode": {
    "name": "ipython",
    "version": 3
   },
   "file_extension": ".py",
   "mimetype": "text/x-python",
   "name": "python",
   "nbconvert_exporter": "python",
   "pygments_lexer": "ipython3",
   "version": "3.6.1"
  }
 },
 "nbformat": 4,
 "nbformat_minor": 2
}
