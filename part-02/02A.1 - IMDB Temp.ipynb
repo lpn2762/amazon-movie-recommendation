{
 "cells": [
  {
   "cell_type": "code",
   "execution_count": 89,
   "metadata": {
    "collapsed": true
   },
   "outputs": [],
   "source": [
    "import pandas as pd\n",
    "import numpy as np\n",
    "import sys\n",
    "import os\n",
    "import pickle as pkl\n",
    "\n",
    "from IPython.display import clear_output\n",
    "from imdb import IMDb\n",
    "\n",
    "import omdb"
   ]
  },
  {
   "cell_type": "code",
   "execution_count": 2,
   "metadata": {
    "collapsed": true
   },
   "outputs": [],
   "source": [
    "data_path_1 = os.path.join('..','data')\n",
    "data_path_2 = os.path.join('..','data-2')\n",
    "\n",
    "df = pd.read_csv(os.path.join(data_path_1, 'reviews_sample_100.csv')).drop(['Unnamed: 0', 'reviewTime'], axis = 1)\n",
    "df.columns = ['item', 'user', 'rating']\n",
    "X_user_item = df.drop('rating', axis = 1)"
   ]
  },
  {
   "cell_type": "code",
   "execution_count": 86,
   "metadata": {},
   "outputs": [],
   "source": [
    "ia = IMDb()\n",
    "result = ia.get_movie(ia.search_movie('Star Wars V')[0].getID())"
   ]
  },
  {
   "cell_type": "code",
   "execution_count": 87,
   "metadata": {
    "scrolled": false
   },
   "outputs": [
    {
     "data": {
      "text/plain": [
       "'Star Wars: Episode V - The Empire Strikes Back'"
      ]
     },
     "execution_count": 87,
     "metadata": {},
     "output_type": "execute_result"
    }
   ],
   "source": [
    "result['title']"
   ]
  },
  {
   "cell_type": "code",
   "execution_count": 98,
   "metadata": {},
   "outputs": [],
   "source": [
    "oa = omdb.Client(apikey = 'd1d7dd54')"
   ]
  },
  {
   "cell_type": "code",
   "execution_count": 101,
   "metadata": {},
   "outputs": [
    {
     "data": {
      "text/plain": [
       "Item({'actors': 'Arnold Schwarzenegger, Rachel Ticotin, Sharon Stone, Ronny Cox', 'awards': 'Nominated for 2 Oscars. Another 7 wins & 13 nominations.', 'box_office': 'N/A', 'country': 'USA', 'dvd': '29 Aug 2000', 'director': 'Paul Verhoeven', 'genre': 'Action, Sci-Fi, Thriller', 'language': 'English', 'metascore': '57', 'plot': 'When a man goes for virtual vacation memories of the planet Mars, an unexpected and harrowing series of events forces him to go to the planet for real - or does he?', 'poster': 'https://images-na.ssl-images-amazon.com/images/M/MV5BYzU1YmJjMGEtMjY4Yy00MTFlLWE3NTUtNzI3YjkwZTMxZjZmXkEyXkFqcGdeQXVyNDc2NjEyMw@@._V1_SX300.jpg', 'production': 'Rialto Pictures', 'rated': 'R', 'released': '01 Jun 1990', 'response': 'True', 'runtime': '113 min', 'title': 'Total Recall', 'type': 'movie', 'website': 'http://www.rialtopictures.com/recall.html', 'writer': 'Philip K. Dick (short story \"We Can Remember It For You Wholesale\"), Ronald Shusett (screen story), Dan O\\'Bannon (screen story), Jon Povill (screen story), Ronald Shusett (screenplay), Dan O\\'Bannon (screenplay), Gary Goldman (screenplay)', 'year': '1990', 'imdb_id': 'tt0100802', 'imdb_rating': '7.5', 'imdb_votes': '259,007'})"
      ]
     },
     "execution_count": 101,
     "metadata": {},
     "output_type": "execute_result"
    }
   ],
   "source": [
    "oa.get(title='Total Recall')"
   ]
  },
  {
   "cell_type": "code",
   "execution_count": null,
   "metadata": {
    "collapsed": true
   },
   "outputs": [],
   "source": []
  }
 ],
 "metadata": {
  "kernelspec": {
   "display_name": "Python 3",
   "language": "python",
   "name": "python3"
  },
  "language_info": {
   "codemirror_mode": {
    "name": "ipython",
    "version": 3
   },
   "file_extension": ".py",
   "mimetype": "text/x-python",
   "name": "python",
   "nbconvert_exporter": "python",
   "pygments_lexer": "ipython3",
   "version": "3.6.1"
  }
 },
 "nbformat": 4,
 "nbformat_minor": 2
}
