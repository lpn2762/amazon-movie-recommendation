{
 "cells": [
  {
   "cell_type": "code",
   "execution_count": 1,
   "metadata": {},
   "outputs": [],
   "source": [
    "import findspark\n",
    "findspark.init()\n",
    "\n",
    "from pyspark.sql import SparkSession\n",
    "spark = SparkSession.builder.master(\"local[4]\").appName(\"main\").getOrCreate()\n",
    "\n",
    "import pandas as pd\n",
    "import numpy as np\n",
    "import matplotlib.pyplot as plt\n",
    "import seaborn as sns\n",
    "import os\n",
    "\n",
    "sns.set(style='whitegrid')\n",
    "\n",
    "% matplotlib inline"
   ]
  },
  {
   "cell_type": "markdown",
   "metadata": {},
   "source": [
    "# Import data\n",
    "Read JSON file and convert to spark DataFame."
   ]
  },
  {
   "cell_type": "code",
   "execution_count": 2,
   "metadata": {},
   "outputs": [
    {
     "name": "stdout",
     "output_type": "stream",
     "text": [
      "root\n",
      " |-- asin: string (nullable = true)\n",
      " |-- helpful: array (nullable = true)\n",
      " |    |-- element: long (containsNull = true)\n",
      " |-- overall: double (nullable = true)\n",
      " |-- reviewText: string (nullable = true)\n",
      " |-- reviewTime: string (nullable = true)\n",
      " |-- reviewerID: string (nullable = true)\n",
      " |-- reviewerName: string (nullable = true)\n",
      " |-- summary: string (nullable = true)\n",
      " |-- unixReviewTime: long (nullable = true)\n",
      "\n"
     ]
    }
   ],
   "source": [
    "data_path = os.path.join('..','..','data','reviews.json')\n",
    "sdf = spark.read.json(data_path)\n",
    "sdf.printSchema()"
   ]
  },
  {
   "cell_type": "code",
   "execution_count": 3,
   "metadata": {},
   "outputs": [
    {
     "name": "stdout",
     "output_type": "stream",
     "text": [
      "+----------+-------+-------+--------------------+-----------+--------------+--------------------+--------------------+--------------+\n",
      "|      asin|helpful|overall|          reviewText| reviewTime|    reviewerID|        reviewerName|             summary|unixReviewTime|\n",
      "+----------+-------+-------+--------------------+-----------+--------------+--------------------+--------------------+--------------+\n",
      "|0005019281| [0, 0]|    4.0|This is a charmin...|02 26, 2008| ADZPIG9QOCDG5|Alice L. Larson \"...|good version of a...|    1203984000|\n",
      "|0005019281| [0, 0]|    3.0|It was good but n...|12 30, 2013|A35947ZP82G7JH|       Amarah Strack|Good but not as m...|    1388361600|\n",
      "|0005019281| [0, 0]|    3.0|Don't get me wron...|12 30, 2013|A3UORV8A9D5L2E|     Amazon Customer|Winkler's Perform...|    1388361600|\n",
      "|0005019281| [0, 0]|    5.0|Henry Winkler is ...|02 13, 2008|A1VKW06X1O2X7V|Amazon Customer \"...|It's an enjoyable...|    1202860800|\n",
      "|0005019281| [0, 0]|    4.0|This is one of th...|12 22, 2013|A3R27T4HADWFFJ|                BABE|    Best Scrooge yet|    1387670400|\n",
      "|0005019281| [0, 0]|    5.0|This has been a f...| 11 6, 2013|A2L0G56BNOTX6S|    barbara whapeles|    Dickens updated.|    1383696000|\n",
      "|0005019281| [1, 1]|    5.0|This is the Ameri...|12 30, 2008| A5NYUBEKXFLX5| B. Babb \"kites0852\"|A MUST-HAVE FOR A...|    1230595200|\n",
      "|0005019281| [0, 0]|    5.0|Glad that this am...|12 15, 2009|A2DJ8B8GE4V2VD|       Berl S. Meyer|An American Chris...|    1260835200|\n",
      "|0005019281| [0, 0]|    5.0|A good Christmas ...| 12 5, 2013| AWF2S3UNW9UA0|         beth holman|an american chris...|    1386201600|\n",
      "|0005019281| [0, 0]|    5.0|How a bitter old ...|09 21, 2013|A3O4UUT83DG3OU|   Bettylou Sperling|          Fantastic!|    1379721600|\n",
      "+----------+-------+-------+--------------------+-----------+--------------+--------------------+--------------------+--------------+\n",
      "only showing top 10 rows\n",
      "\n"
     ]
    }
   ],
   "source": [
    "sdf.show(10)"
   ]
  },
  {
   "cell_type": "markdown",
   "metadata": {},
   "source": [
    "# Distribution of ratings"
   ]
  },
  {
   "cell_type": "code",
   "execution_count": 4,
   "metadata": {},
   "outputs": [],
   "source": [
    "rating_dist = sdf.groupby('overall').count().toPandas()"
   ]
  },
  {
   "cell_type": "code",
   "execution_count": 5,
   "metadata": {},
   "outputs": [
    {
     "data": {
      "text/html": [
       "<div>\n",
       "<style>\n",
       "    .dataframe thead tr:only-child th {\n",
       "        text-align: right;\n",
       "    }\n",
       "\n",
       "    .dataframe thead th {\n",
       "        text-align: left;\n",
       "    }\n",
       "\n",
       "    .dataframe tbody tr th {\n",
       "        vertical-align: top;\n",
       "    }\n",
       "</style>\n",
       "<table border=\"1\" class=\"dataframe\">\n",
       "  <thead>\n",
       "    <tr style=\"text-align: right;\">\n",
       "      <th></th>\n",
       "      <th>overall</th>\n",
       "      <th>count</th>\n",
       "    </tr>\n",
       "  </thead>\n",
       "  <tbody>\n",
       "    <tr>\n",
       "      <th>0</th>\n",
       "      <td>1.0</td>\n",
       "      <td>104219</td>\n",
       "    </tr>\n",
       "    <tr>\n",
       "      <th>1</th>\n",
       "      <td>4.0</td>\n",
       "      <td>382994</td>\n",
       "    </tr>\n",
       "    <tr>\n",
       "      <th>2</th>\n",
       "      <td>3.0</td>\n",
       "      <td>201302</td>\n",
       "    </tr>\n",
       "    <tr>\n",
       "      <th>3</th>\n",
       "      <td>2.0</td>\n",
       "      <td>102410</td>\n",
       "    </tr>\n",
       "    <tr>\n",
       "      <th>4</th>\n",
       "      <td>5.0</td>\n",
       "      <td>906608</td>\n",
       "    </tr>\n",
       "  </tbody>\n",
       "</table>\n",
       "</div>"
      ],
      "text/plain": [
       "   overall   count\n",
       "0      1.0  104219\n",
       "1      4.0  382994\n",
       "2      3.0  201302\n",
       "3      2.0  102410\n",
       "4      5.0  906608"
      ]
     },
     "execution_count": 5,
     "metadata": {},
     "output_type": "execute_result"
    }
   ],
   "source": [
    "rating_dist"
   ]
  },
  {
   "cell_type": "markdown",
   "metadata": {},
   "source": [
    "Write stuff about how the distribution is unbalanced and that it could pose a challenge as a explicit feedback problem."
   ]
  },
  {
   "cell_type": "code",
   "execution_count": 6,
   "metadata": {},
   "outputs": [
    {
     "data": {
      "text/plain": [
       "[<matplotlib.text.Text at 0x110fe2110>,\n",
       " <matplotlib.text.Text at 0x110fc0790>,\n",
       " <matplotlib.text.Text at 0x11100fad0>]"
      ]
     },
     "execution_count": 6,
     "metadata": {},
     "output_type": "execute_result"
    },
    {
     "data": {
      "image/png": "[encoded data removed]",
      "text/plain": [
       "<matplotlib.figure.Figure at 0x10bea4d50>"
      ]
     },
     "metadata": {},
     "output_type": "display_data"
    }
   ],
   "source": [
    "ax = rating_dist.sort_values(by = 'overall').plot(kind='bar', x = 'overall', y = 'count', figsize = (10,5))\n",
    "ax.set(title = 'Distribution of ratings', xlabel = 'Star rating', ylabel = 'Frequency')"
   ]
  },
  {
   "cell_type": "markdown",
   "metadata": {},
   "source": [
    "# Average rating per reviewer"
   ]
  },
  {
   "cell_type": "code",
   "execution_count": 13,
   "metadata": {},
   "outputs": [
    {
     "data": {
      "text/plain": [
       "[<matplotlib.text.Text at 0x111d29e90>, <matplotlib.text.Text at 0x111897610>]"
      ]
     },
     "execution_count": 13,
     "metadata": {},
     "output_type": "execute_result"
    },
    {
     "data": {
      "image/png": "[encoded data removed]",
      "text/plain": [
       "<matplotlib.figure.Figure at 0x113040610>"
      ]
     },
     "metadata": {},
     "output_type": "display_data"
    }
   ],
   "source": [
    "Ave_rate = sdf.groupby(\"reviewerID\").mean().toPandas()\n",
    "Ave_rate = Ave_rate.sort_values(by = \"avg(overall)\", ascending = False).reset_index()\n",
    "ax = Ave_rate.plot(kind = \"area\", x = \"reviewerID\", y = \"avg(overall)\", figsize = (16, 6))\n",
    "ax.set(title = \"Average Rating Per Reviewer\", ylabel = \"Average Star Rating\")"
   ]
  },
  {
   "cell_type": "markdown",
   "metadata": {},
   "source": [
    "# Number of reviews per reviewer"
   ]
  },
  {
   "cell_type": "code",
   "execution_count": 17,
   "metadata": {},
   "outputs": [
    {
     "data": {
      "text/plain": [
       "<matplotlib.axes._subplots.AxesSubplot at 0x116da8dd0>"
      ]
     },
     "execution_count": 17,
     "metadata": {},
     "output_type": "execute_result"
    },
    {
     "data": {
      "image/png": "[encoded data removed]",
      "text/plain": [
       "<matplotlib.figure.Figure at 0x116db7290>"
      ]
     },
     "metadata": {},
     "output_type": "display_data"
    }
   ],
   "source": [
    "review_counts = sdf.groupby('reviewerID').count().toPandas()\n",
    "review_counts = review_counts.sort_values(by = 'count', ascending = False)\n",
    "review_counts.plot(kind = 'area', x = 'reviewerID', y = 'count')"
   ]
  },
  {
   "cell_type": "code",
   "execution_count": 19,
   "metadata": {},
   "outputs": [
    {
     "data": {
      "text/plain": [
       "[(0, 500)]"
      ]
     },
     "execution_count": 19,
     "metadata": {},
     "output_type": "execute_result"
    },
    {
     "data": {
      "image/png": "[encoded data removed]",
      "text/plain": [
       "<matplotlib.figure.Figure at 0x111889d10>"
      ]
     },
     "metadata": {},
     "output_type": "display_data"
    }
   ],
   "source": [
    "ax = review_counts.plot(kind = 'area', x = 'reviewerID', y = 'count')\n",
    "ax.set(xlim = (0, 500))"
   ]
  },
  {
   "cell_type": "code",
   "execution_count": 32,
   "metadata": {},
   "outputs": [
    {
     "data": {
      "text/plain": [
       "count    123960.000000\n",
       "mean         13.694200\n",
       "std          39.750989\n",
       "min           5.000000\n",
       "25%           5.000000\n",
       "50%           7.000000\n",
       "75%          11.000000\n",
       "max        2368.000000\n",
       "Name: count, dtype: float64"
      ]
     },
     "execution_count": 32,
     "metadata": {},
     "output_type": "execute_result"
    }
   ],
   "source": [
    "review_counts['count'].describe()"
   ]
  },
  {
   "cell_type": "markdown",
   "metadata": {},
   "source": [
    "# Average review per movie"
   ]
  },
  {
   "cell_type": "code",
   "execution_count": 47,
   "metadata": {},
   "outputs": [
    {
     "data": {
      "text/html": [
       "<div>\n",
       "<style>\n",
       "    .dataframe thead tr:only-child th {\n",
       "        text-align: right;\n",
       "    }\n",
       "\n",
       "    .dataframe thead th {\n",
       "        text-align: left;\n",
       "    }\n",
       "\n",
       "    .dataframe tbody tr th {\n",
       "        vertical-align: top;\n",
       "    }\n",
       "</style>\n",
       "<table border=\"1\" class=\"dataframe\">\n",
       "  <thead>\n",
       "    <tr style=\"text-align: right;\">\n",
       "      <th></th>\n",
       "      <th>index</th>\n",
       "      <th>asin</th>\n",
       "      <th>avg(overall)</th>\n",
       "      <th>avg(unixReviewTime)</th>\n",
       "    </tr>\n",
       "  </thead>\n",
       "  <tbody>\n",
       "    <tr>\n",
       "      <th>0</th>\n",
       "      <td>21097</td>\n",
       "      <td>B000PSTGDE</td>\n",
       "      <td>5.000000</td>\n",
       "      <td>1.262699e+09</td>\n",
       "    </tr>\n",
       "    <tr>\n",
       "      <th>1</th>\n",
       "      <td>13247</td>\n",
       "      <td>B0000A02Y9</td>\n",
       "      <td>5.000000</td>\n",
       "      <td>1.271894e+09</td>\n",
       "    </tr>\n",
       "    <tr>\n",
       "      <th>2</th>\n",
       "      <td>15983</td>\n",
       "      <td>B00005ML8S</td>\n",
       "      <td>5.000000</td>\n",
       "      <td>1.033811e+09</td>\n",
       "    </tr>\n",
       "    <tr>\n",
       "      <th>3</th>\n",
       "      <td>29320</td>\n",
       "      <td>B0030Y11VK</td>\n",
       "      <td>5.000000</td>\n",
       "      <td>1.323631e+09</td>\n",
       "    </tr>\n",
       "    <tr>\n",
       "      <th>4</th>\n",
       "      <td>36547</td>\n",
       "      <td>B000H0MNIU</td>\n",
       "      <td>5.000000</td>\n",
       "      <td>1.261892e+09</td>\n",
       "    </tr>\n",
       "    <tr>\n",
       "      <th>5</th>\n",
       "      <td>31052</td>\n",
       "      <td>B000CSTK74</td>\n",
       "      <td>5.000000</td>\n",
       "      <td>1.285390e+09</td>\n",
       "    </tr>\n",
       "    <tr>\n",
       "      <th>6</th>\n",
       "      <td>30819</td>\n",
       "      <td>B00177Y9W0</td>\n",
       "      <td>5.000000</td>\n",
       "      <td>1.304398e+09</td>\n",
       "    </tr>\n",
       "    <tr>\n",
       "      <th>7</th>\n",
       "      <td>29324</td>\n",
       "      <td>B0036NB2SM</td>\n",
       "      <td>5.000000</td>\n",
       "      <td>1.293546e+09</td>\n",
       "    </tr>\n",
       "    <tr>\n",
       "      <th>8</th>\n",
       "      <td>46802</td>\n",
       "      <td>B00CP4Y5V4</td>\n",
       "      <td>5.000000</td>\n",
       "      <td>1.392319e+09</td>\n",
       "    </tr>\n",
       "    <tr>\n",
       "      <th>9</th>\n",
       "      <td>20493</td>\n",
       "      <td>B000003NZG</td>\n",
       "      <td>5.000000</td>\n",
       "      <td>1.115122e+09</td>\n",
       "    </tr>\n",
       "    <tr>\n",
       "      <th>10</th>\n",
       "      <td>46817</td>\n",
       "      <td>6300150879</td>\n",
       "      <td>5.000000</td>\n",
       "      <td>1.200044e+09</td>\n",
       "    </tr>\n",
       "    <tr>\n",
       "      <th>11</th>\n",
       "      <td>1757</td>\n",
       "      <td>B00004UF02</td>\n",
       "      <td>5.000000</td>\n",
       "      <td>1.226275e+09</td>\n",
       "    </tr>\n",
       "    <tr>\n",
       "      <th>12</th>\n",
       "      <td>40822</td>\n",
       "      <td>B003C5FMM6</td>\n",
       "      <td>5.000000</td>\n",
       "      <td>1.364429e+09</td>\n",
       "    </tr>\n",
       "    <tr>\n",
       "      <th>13</th>\n",
       "      <td>36516</td>\n",
       "      <td>B0002Q9VUC</td>\n",
       "      <td>5.000000</td>\n",
       "      <td>1.334016e+09</td>\n",
       "    </tr>\n",
       "    <tr>\n",
       "      <th>14</th>\n",
       "      <td>20456</td>\n",
       "      <td>6300213382</td>\n",
       "      <td>5.000000</td>\n",
       "      <td>1.081642e+09</td>\n",
       "    </tr>\n",
       "    <tr>\n",
       "      <th>15</th>\n",
       "      <td>16019</td>\n",
       "      <td>B0001DMXCO</td>\n",
       "      <td>5.000000</td>\n",
       "      <td>1.169960e+09</td>\n",
       "    </tr>\n",
       "    <tr>\n",
       "      <th>16</th>\n",
       "      <td>5042</td>\n",
       "      <td>630428635X</td>\n",
       "      <td>5.000000</td>\n",
       "      <td>1.000027e+09</td>\n",
       "    </tr>\n",
       "    <tr>\n",
       "      <th>17</th>\n",
       "      <td>36511</td>\n",
       "      <td>B0001LJCL6</td>\n",
       "      <td>5.000000</td>\n",
       "      <td>1.229299e+09</td>\n",
       "    </tr>\n",
       "    <tr>\n",
       "      <th>18</th>\n",
       "      <td>11241</td>\n",
       "      <td>B000EGEJIO</td>\n",
       "      <td>5.000000</td>\n",
       "      <td>1.196381e+09</td>\n",
       "    </tr>\n",
       "    <tr>\n",
       "      <th>19</th>\n",
       "      <td>46872</td>\n",
       "      <td>B000067IYK</td>\n",
       "      <td>5.000000</td>\n",
       "      <td>1.268698e+09</td>\n",
       "    </tr>\n",
       "    <tr>\n",
       "      <th>20</th>\n",
       "      <td>43284</td>\n",
       "      <td>B0033AX1YG</td>\n",
       "      <td>5.000000</td>\n",
       "      <td>1.364822e+09</td>\n",
       "    </tr>\n",
       "    <tr>\n",
       "      <th>21</th>\n",
       "      <td>20439</td>\n",
       "      <td>0767018702</td>\n",
       "      <td>5.000000</td>\n",
       "      <td>1.172966e+09</td>\n",
       "    </tr>\n",
       "    <tr>\n",
       "      <th>22</th>\n",
       "      <td>46875</td>\n",
       "      <td>B000069HXF</td>\n",
       "      <td>5.000000</td>\n",
       "      <td>1.259548e+09</td>\n",
       "    </tr>\n",
       "    <tr>\n",
       "      <th>23</th>\n",
       "      <td>20433</td>\n",
       "      <td>B00GTO6V6S</td>\n",
       "      <td>5.000000</td>\n",
       "      <td>1.398767e+09</td>\n",
       "    </tr>\n",
       "    <tr>\n",
       "      <th>24</th>\n",
       "      <td>7328</td>\n",
       "      <td>B00I3RHUX2</td>\n",
       "      <td>5.000000</td>\n",
       "      <td>1.398228e+09</td>\n",
       "    </tr>\n",
       "    <tr>\n",
       "      <th>25</th>\n",
       "      <td>36495</td>\n",
       "      <td>B000068GS6</td>\n",
       "      <td>5.000000</td>\n",
       "      <td>1.054236e+09</td>\n",
       "    </tr>\n",
       "    <tr>\n",
       "      <th>26</th>\n",
       "      <td>12580</td>\n",
       "      <td>B000WGWZZU</td>\n",
       "      <td>5.000000</td>\n",
       "      <td>1.326776e+09</td>\n",
       "    </tr>\n",
       "    <tr>\n",
       "      <th>27</th>\n",
       "      <td>23545</td>\n",
       "      <td>B0027VSTJO</td>\n",
       "      <td>5.000000</td>\n",
       "      <td>1.264913e+09</td>\n",
       "    </tr>\n",
       "    <tr>\n",
       "      <th>28</th>\n",
       "      <td>40807</td>\n",
       "      <td>B002EAKWEI</td>\n",
       "      <td>5.000000</td>\n",
       "      <td>1.340703e+09</td>\n",
       "    </tr>\n",
       "    <tr>\n",
       "      <th>29</th>\n",
       "      <td>5748</td>\n",
       "      <td>0790741008</td>\n",
       "      <td>5.000000</td>\n",
       "      <td>9.816521e+08</td>\n",
       "    </tr>\n",
       "    <tr>\n",
       "      <th>...</th>\n",
       "      <td>...</td>\n",
       "      <td>...</td>\n",
       "      <td>...</td>\n",
       "      <td>...</td>\n",
       "    </tr>\n",
       "    <tr>\n",
       "      <th>50022</th>\n",
       "      <td>24285</td>\n",
       "      <td>B000VZADO2</td>\n",
       "      <td>1.222222</td>\n",
       "      <td>1.256448e+09</td>\n",
       "    </tr>\n",
       "    <tr>\n",
       "      <th>50023</th>\n",
       "      <td>6361</td>\n",
       "      <td>B0009KQP1E</td>\n",
       "      <td>1.222222</td>\n",
       "      <td>1.176854e+09</td>\n",
       "    </tr>\n",
       "    <tr>\n",
       "      <th>50024</th>\n",
       "      <td>26415</td>\n",
       "      <td>B00AHTYDZW</td>\n",
       "      <td>1.222222</td>\n",
       "      <td>1.364074e+09</td>\n",
       "    </tr>\n",
       "    <tr>\n",
       "      <th>50025</th>\n",
       "      <td>14026</td>\n",
       "      <td>B000BYA5H8</td>\n",
       "      <td>1.217391</td>\n",
       "      <td>1.216388e+09</td>\n",
       "    </tr>\n",
       "    <tr>\n",
       "      <th>50026</th>\n",
       "      <td>48942</td>\n",
       "      <td>B0011GDIFQ</td>\n",
       "      <td>1.200000</td>\n",
       "      <td>1.214058e+09</td>\n",
       "    </tr>\n",
       "    <tr>\n",
       "      <th>50027</th>\n",
       "      <td>44300</td>\n",
       "      <td>B00519BP1I</td>\n",
       "      <td>1.200000</td>\n",
       "      <td>1.378084e+09</td>\n",
       "    </tr>\n",
       "    <tr>\n",
       "      <th>50028</th>\n",
       "      <td>37248</td>\n",
       "      <td>B00023BN2Y</td>\n",
       "      <td>1.200000</td>\n",
       "      <td>1.182643e+09</td>\n",
       "    </tr>\n",
       "    <tr>\n",
       "      <th>50029</th>\n",
       "      <td>13871</td>\n",
       "      <td>B005LZW6BU</td>\n",
       "      <td>1.200000</td>\n",
       "      <td>1.365535e+09</td>\n",
       "    </tr>\n",
       "    <tr>\n",
       "      <th>50030</th>\n",
       "      <td>207</td>\n",
       "      <td>B00353W296</td>\n",
       "      <td>1.200000</td>\n",
       "      <td>1.358623e+09</td>\n",
       "    </tr>\n",
       "    <tr>\n",
       "      <th>50031</th>\n",
       "      <td>23495</td>\n",
       "      <td>B000E5KQHS</td>\n",
       "      <td>1.200000</td>\n",
       "      <td>1.223217e+09</td>\n",
       "    </tr>\n",
       "    <tr>\n",
       "      <th>50032</th>\n",
       "      <td>21043</td>\n",
       "      <td>B0002W4SDQ</td>\n",
       "      <td>1.200000</td>\n",
       "      <td>1.230924e+09</td>\n",
       "    </tr>\n",
       "    <tr>\n",
       "      <th>50033</th>\n",
       "      <td>30233</td>\n",
       "      <td>B00062IZUY</td>\n",
       "      <td>1.200000</td>\n",
       "      <td>1.163964e+09</td>\n",
       "    </tr>\n",
       "    <tr>\n",
       "      <th>50034</th>\n",
       "      <td>35796</td>\n",
       "      <td>B00026L90C</td>\n",
       "      <td>1.166667</td>\n",
       "      <td>1.112803e+09</td>\n",
       "    </tr>\n",
       "    <tr>\n",
       "      <th>50035</th>\n",
       "      <td>3417</td>\n",
       "      <td>B004D4YE8S</td>\n",
       "      <td>1.166667</td>\n",
       "      <td>1.386331e+09</td>\n",
       "    </tr>\n",
       "    <tr>\n",
       "      <th>50036</th>\n",
       "      <td>49392</td>\n",
       "      <td>B000294TCY</td>\n",
       "      <td>1.166667</td>\n",
       "      <td>1.144166e+09</td>\n",
       "    </tr>\n",
       "    <tr>\n",
       "      <th>50037</th>\n",
       "      <td>32300</td>\n",
       "      <td>B000I2KRYE</td>\n",
       "      <td>1.166667</td>\n",
       "      <td>1.228622e+09</td>\n",
       "    </tr>\n",
       "    <tr>\n",
       "      <th>50038</th>\n",
       "      <td>27124</td>\n",
       "      <td>B008POPRS8</td>\n",
       "      <td>1.147059</td>\n",
       "      <td>1.365862e+09</td>\n",
       "    </tr>\n",
       "    <tr>\n",
       "      <th>50039</th>\n",
       "      <td>200</td>\n",
       "      <td>B002LZAZZ2</td>\n",
       "      <td>1.142857</td>\n",
       "      <td>1.285299e+09</td>\n",
       "    </tr>\n",
       "    <tr>\n",
       "      <th>50040</th>\n",
       "      <td>15280</td>\n",
       "      <td>B000ARTMT8</td>\n",
       "      <td>1.100000</td>\n",
       "      <td>1.172172e+09</td>\n",
       "    </tr>\n",
       "    <tr>\n",
       "      <th>50041</th>\n",
       "      <td>6136</td>\n",
       "      <td>B000RGX0E0</td>\n",
       "      <td>1.083333</td>\n",
       "      <td>1.309241e+09</td>\n",
       "    </tr>\n",
       "    <tr>\n",
       "      <th>50042</th>\n",
       "      <td>10691</td>\n",
       "      <td>B0001ME5DU</td>\n",
       "      <td>1.083333</td>\n",
       "      <td>1.191967e+09</td>\n",
       "    </tr>\n",
       "    <tr>\n",
       "      <th>50043</th>\n",
       "      <td>2751</td>\n",
       "      <td>B00005J74W</td>\n",
       "      <td>1.000000</td>\n",
       "      <td>1.055929e+09</td>\n",
       "    </tr>\n",
       "    <tr>\n",
       "      <th>50044</th>\n",
       "      <td>47244</td>\n",
       "      <td>B004XZ99D2</td>\n",
       "      <td>1.000000</td>\n",
       "      <td>1.383852e+09</td>\n",
       "    </tr>\n",
       "    <tr>\n",
       "      <th>50045</th>\n",
       "      <td>18469</td>\n",
       "      <td>6303334385</td>\n",
       "      <td>1.000000</td>\n",
       "      <td>1.052490e+09</td>\n",
       "    </tr>\n",
       "    <tr>\n",
       "      <th>50046</th>\n",
       "      <td>25825</td>\n",
       "      <td>B0010AEQ8Q</td>\n",
       "      <td>1.000000</td>\n",
       "      <td>1.249142e+09</td>\n",
       "    </tr>\n",
       "    <tr>\n",
       "      <th>50047</th>\n",
       "      <td>21013</td>\n",
       "      <td>B00007G1YE</td>\n",
       "      <td>1.000000</td>\n",
       "      <td>1.189106e+09</td>\n",
       "    </tr>\n",
       "    <tr>\n",
       "      <th>50048</th>\n",
       "      <td>4882</td>\n",
       "      <td>B000E3LIJ0</td>\n",
       "      <td>1.000000</td>\n",
       "      <td>1.199333e+09</td>\n",
       "    </tr>\n",
       "    <tr>\n",
       "      <th>50049</th>\n",
       "      <td>49792</td>\n",
       "      <td>B007C8RZPG</td>\n",
       "      <td>1.000000</td>\n",
       "      <td>1.361290e+09</td>\n",
       "    </tr>\n",
       "    <tr>\n",
       "      <th>50050</th>\n",
       "      <td>21104</td>\n",
       "      <td>B000YVB81A</td>\n",
       "      <td>1.000000</td>\n",
       "      <td>1.274213e+09</td>\n",
       "    </tr>\n",
       "    <tr>\n",
       "      <th>50051</th>\n",
       "      <td>5960</td>\n",
       "      <td>B004LGGXHS</td>\n",
       "      <td>1.000000</td>\n",
       "      <td>1.357275e+09</td>\n",
       "    </tr>\n",
       "  </tbody>\n",
       "</table>\n",
       "<p>50052 rows × 4 columns</p>\n",
       "</div>"
      ],
      "text/plain": [
       "       index        asin  avg(overall)  avg(unixReviewTime)\n",
       "0      21097  B000PSTGDE      5.000000         1.262699e+09\n",
       "1      13247  B0000A02Y9      5.000000         1.271894e+09\n",
       "2      15983  B00005ML8S      5.000000         1.033811e+09\n",
       "3      29320  B0030Y11VK      5.000000         1.323631e+09\n",
       "4      36547  B000H0MNIU      5.000000         1.261892e+09\n",
       "5      31052  B000CSTK74      5.000000         1.285390e+09\n",
       "6      30819  B00177Y9W0      5.000000         1.304398e+09\n",
       "7      29324  B0036NB2SM      5.000000         1.293546e+09\n",
       "8      46802  B00CP4Y5V4      5.000000         1.392319e+09\n",
       "9      20493  B000003NZG      5.000000         1.115122e+09\n",
       "10     46817  6300150879      5.000000         1.200044e+09\n",
       "11      1757  B00004UF02      5.000000         1.226275e+09\n",
       "12     40822  B003C5FMM6      5.000000         1.364429e+09\n",
       "13     36516  B0002Q9VUC      5.000000         1.334016e+09\n",
       "14     20456  6300213382      5.000000         1.081642e+09\n",
       "15     16019  B0001DMXCO      5.000000         1.169960e+09\n",
       "16      5042  630428635X      5.000000         1.000027e+09\n",
       "17     36511  B0001LJCL6      5.000000         1.229299e+09\n",
       "18     11241  B000EGEJIO      5.000000         1.196381e+09\n",
       "19     46872  B000067IYK      5.000000         1.268698e+09\n",
       "20     43284  B0033AX1YG      5.000000         1.364822e+09\n",
       "21     20439  0767018702      5.000000         1.172966e+09\n",
       "22     46875  B000069HXF      5.000000         1.259548e+09\n",
       "23     20433  B00GTO6V6S      5.000000         1.398767e+09\n",
       "24      7328  B00I3RHUX2      5.000000         1.398228e+09\n",
       "25     36495  B000068GS6      5.000000         1.054236e+09\n",
       "26     12580  B000WGWZZU      5.000000         1.326776e+09\n",
       "27     23545  B0027VSTJO      5.000000         1.264913e+09\n",
       "28     40807  B002EAKWEI      5.000000         1.340703e+09\n",
       "29      5748  0790741008      5.000000         9.816521e+08\n",
       "...      ...         ...           ...                  ...\n",
       "50022  24285  B000VZADO2      1.222222         1.256448e+09\n",
       "50023   6361  B0009KQP1E      1.222222         1.176854e+09\n",
       "50024  26415  B00AHTYDZW      1.222222         1.364074e+09\n",
       "50025  14026  B000BYA5H8      1.217391         1.216388e+09\n",
       "50026  48942  B0011GDIFQ      1.200000         1.214058e+09\n",
       "50027  44300  B00519BP1I      1.200000         1.378084e+09\n",
       "50028  37248  B00023BN2Y      1.200000         1.182643e+09\n",
       "50029  13871  B005LZW6BU      1.200000         1.365535e+09\n",
       "50030    207  B00353W296      1.200000         1.358623e+09\n",
       "50031  23495  B000E5KQHS      1.200000         1.223217e+09\n",
       "50032  21043  B0002W4SDQ      1.200000         1.230924e+09\n",
       "50033  30233  B00062IZUY      1.200000         1.163964e+09\n",
       "50034  35796  B00026L90C      1.166667         1.112803e+09\n",
       "50035   3417  B004D4YE8S      1.166667         1.386331e+09\n",
       "50036  49392  B000294TCY      1.166667         1.144166e+09\n",
       "50037  32300  B000I2KRYE      1.166667         1.228622e+09\n",
       "50038  27124  B008POPRS8      1.147059         1.365862e+09\n",
       "50039    200  B002LZAZZ2      1.142857         1.285299e+09\n",
       "50040  15280  B000ARTMT8      1.100000         1.172172e+09\n",
       "50041   6136  B000RGX0E0      1.083333         1.309241e+09\n",
       "50042  10691  B0001ME5DU      1.083333         1.191967e+09\n",
       "50043   2751  B00005J74W      1.000000         1.055929e+09\n",
       "50044  47244  B004XZ99D2      1.000000         1.383852e+09\n",
       "50045  18469  6303334385      1.000000         1.052490e+09\n",
       "50046  25825  B0010AEQ8Q      1.000000         1.249142e+09\n",
       "50047  21013  B00007G1YE      1.000000         1.189106e+09\n",
       "50048   4882  B000E3LIJ0      1.000000         1.199333e+09\n",
       "50049  49792  B007C8RZPG      1.000000         1.361290e+09\n",
       "50050  21104  B000YVB81A      1.000000         1.274213e+09\n",
       "50051   5960  B004LGGXHS      1.000000         1.357275e+09\n",
       "\n",
       "[50052 rows x 4 columns]"
      ]
     },
     "execution_count": 47,
     "metadata": {},
     "output_type": "execute_result"
    }
   ],
   "source": [
    "Ave_rate_2"
   ]
  },
  {
   "cell_type": "code",
   "execution_count": 46,
   "metadata": {},
   "outputs": [
    {
     "data": {
      "text/plain": [
       "[<matplotlib.text.Text at 0x114f51490>, <matplotlib.text.Text at 0x111506090>]"
      ]
     },
     "execution_count": 46,
     "metadata": {},
     "output_type": "execute_result"
    },
    {
     "data": {
      "image/png": "[encoded data removed]",
      "text/plain": [
       "<matplotlib.figure.Figure at 0x115f9a910>"
      ]
     },
     "metadata": {},
     "output_type": "display_data"
    }
   ],
   "source": [
    "Ave_rate_2 = sdf.groupby(\"asin\").mean().toPandas()\n",
    "Ave_rate_2 = Ave_rate_2.sort_values(by = \"avg(overall)\", ascending = False).reset_index()\n",
    "ax = Ave_rate_2.plot(kind = \"area\", x = \"asin\", y = \"avg(overall)\", figsize = (16, 6))\n",
    "ax.set(title = \"Average Rating Per Movie\", ylabel = \"Average Star Rating\")"
   ]
  },
  {
   "cell_type": "code",
   "execution_count": 19,
   "metadata": {},
   "outputs": [
    {
     "data": {
      "text/plain": [
       "[(0, 500)]"
      ]
     },
     "execution_count": 19,
     "metadata": {},
     "output_type": "execute_result"
    },
    {
     "data": {
      "image/png": "[encoded data removed]",
      "text/plain": [
       "<matplotlib.figure.Figure at 0x111889d10>"
      ]
     },
     "metadata": {},
     "output_type": "display_data"
    }
   ],
   "source": [
    "ax = review_counts.plot(kind = 'area', x = 'reviewerID', y = 'count')\n",
    "ax.set(xlim = (0, 500))"
   ]
  },
  {
   "cell_type": "markdown",
   "metadata": {},
   "source": [
    "# Number of reviews per movie"
   ]
  },
  {
   "cell_type": "code",
   "execution_count": 42,
   "metadata": {
    "scrolled": true
   },
   "outputs": [
    {
     "data": {
      "text/plain": [
       "<matplotlib.axes._subplots.AxesSubplot at 0x11545b810>"
      ]
     },
     "execution_count": 42,
     "metadata": {},
     "output_type": "execute_result"
    },
    {
     "data": {
      "image/png": "[encoded data removed]",
      "text/plain": [
       "<matplotlib.figure.Figure at 0x1110a7bd0>"
      ]
     },
     "metadata": {},
     "output_type": "display_data"
    }
   ],
   "source": [
    "review_counts_2 = sdf.groupby('asin').count().toPandas()\n",
    "review_counts_2 = review_counts_2.sort_values(by = 'count', ascending = False)\n",
    "review_counts_2.plot(kind = 'area', x = 'asin', y = 'count')"
   ]
  },
  {
   "cell_type": "code",
   "execution_count": 44,
   "metadata": {},
   "outputs": [
    {
     "data": {
      "text/plain": [
       "[(0, 500)]"
      ]
     },
     "execution_count": 44,
     "metadata": {},
     "output_type": "execute_result"
    },
    {
     "data": {
      "image/png": "[encoded data removed]",
      "text/plain": [
       "<matplotlib.figure.Figure at 0x115eae390>"
      ]
     },
     "metadata": {},
     "output_type": "display_data"
    }
   ],
   "source": [
    "ax = review_counts_2.plot(kind = 'area', x = 'asin', y = 'count')\n",
    "ax.set(xlim = (0, 500))"
   ]
  },
  {
   "cell_type": "code",
   "execution_count": 45,
   "metadata": {},
   "outputs": [
    {
     "data": {
      "text/plain": [
       "count    50052.000000\n",
       "mean        33.915388\n",
       "std         73.466260\n",
       "min          5.000000\n",
       "25%          7.000000\n",
       "50%         13.000000\n",
       "75%         29.000000\n",
       "max       2213.000000\n",
       "Name: count, dtype: float64"
      ]
     },
     "execution_count": 45,
     "metadata": {},
     "output_type": "execute_result"
    }
   ],
   "source": [
    "review_counts_2['count'].describe()"
   ]
  },
  {
   "cell_type": "markdown",
   "metadata": {},
   "source": [
    "# Number of unique movies and reviewers"
   ]
  },
  {
   "cell_type": "code",
   "execution_count": 77,
   "metadata": {},
   "outputs": [],
   "source": [
    "n_movies = sdf.select(\"asin\").distinct().count()\n",
    "n_users = sdf.select(\"reviewerID\").distinct().count()\n",
    "n_reviews = sdf.select(\"*\").count()\n",
    "density = n_reviews / float(n_users * n_movies)"
   ]
  },
  {
   "cell_type": "code",
   "execution_count": 81,
   "metadata": {},
   "outputs": [
    {
     "name": "stdout",
     "output_type": "stream",
     "text": [
      "number of movies: 50052\n",
      "number of reviewers: 123960\n",
      "number of reviews: 1697533\n",
      "density: 0.0273599451408%\n"
     ]
    }
   ],
   "source": [
    "print 'number of movies:', n_movies\n",
    "print 'number of reviewers:', n_users\n",
    "print 'number of reviews:', n_reviews\n",
    "print 'density: ' + str(density * 100) + '%'"
   ]
  },
  {
   "cell_type": "code",
   "execution_count": 89,
   "metadata": {},
   "outputs": [
    {
     "data": {
      "text/plain": [
       "23.1133621931076"
      ]
     },
     "execution_count": 89,
     "metadata": {},
     "output_type": "execute_result"
    }
   ],
   "source": [
    "1 / density * n_reviews * 4 / 1024 / 1024 / 1024"
   ]
  },
  {
   "cell_type": "code",
   "execution_count": null,
   "metadata": {
    "collapsed": true
   },
   "outputs": [],
   "source": []
  }
 ],
 "metadata": {
  "kernelspec": {
   "display_name": "columba-python-2.7",
   "language": "python",
   "name": "columba-python-2.7"
  },
  "language_info": {
   "codemirror_mode": {
    "name": "ipython",
    "version": 2
   },
   "file_extension": ".py",
   "mimetype": "text/x-python",
   "name": "python",
   "nbconvert_exporter": "python",
   "pygments_lexer": "ipython2",
   "version": "2.7.13"
  }
 },
 "nbformat": 4,
 "nbformat_minor": 2
}
