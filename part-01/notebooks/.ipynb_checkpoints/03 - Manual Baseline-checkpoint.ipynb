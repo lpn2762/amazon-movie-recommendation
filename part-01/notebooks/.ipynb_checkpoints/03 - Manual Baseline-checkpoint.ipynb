{
 "cells": [
  {
   "cell_type": "markdown",
   "metadata": {},
   "source": [
    "# 03A - Manual Baseline"
   ]
  },
  {
   "cell_type": "code",
   "execution_count": 13,
   "metadata": {
    "collapsed": true
   },
   "outputs": [],
   "source": [
    "from surprise import Dataset, evaluate, SVD, Reader\n",
    "\n",
    "from hyperopt import tpe, fmin, hp, Trials, STATUS_OK\n",
    "\n",
    "import pickle as pkl\n",
    "import pandas as pd\n",
    "import numpy as np\n",
    "import matplotlib.pyplot as plt\n",
    "import seaborn as sns\n",
    "import os\n",
    "import time\n",
    "\n",
    "sns.set(style='whitegrid')\n",
    "% matplotlib inline"
   ]
  },
  {
   "cell_type": "code",
   "execution_count": 11,
   "metadata": {
    "collapsed": true
   },
   "outputs": [],
   "source": [
    "data_path = os.path.join('..','..','data')\n",
    "data_file_100 = os.path.join(data_path, 'reviews_sample_100.csv')\n",
    "data_file_50 = os.path.join(data_path, 'reviews_sample_50.csv')\n",
    "data_file_25 = os.path.join(data_path, 'reviews_sample_25.csv')\n",
    "data_file_10 = os.path.join(data_path, 'reviews_sample_10.csv')\n",
    "\n",
    "df_100 = pd.read_csv(data_file_100).drop('Unnamed: 0', axis = 1)\n",
    "df_50 = pd.read_csv(data_file_50).drop('Unnamed: 0', axis = 1)\n",
    "df_25 = pd.read_csv(data_file_25).drop('Unnamed: 0', axis = 1)\n",
    "df_10 = pd.read_csv(data_file_10).drop('Unnamed: 0', axis = 1)"
   ]
  },
  {
   "cell_type": "code",
   "execution_count": 7,
   "metadata": {
    "collapsed": true
   },
   "outputs": [],
   "source": [
    "def bias_baseline(in_df, in_tests):\n",
    "    \n",
    "    # accumulate a new rmse on each test\n",
    "    mae_list = list()\n",
    "    \n",
    "    for i in range(in_tests):\n",
    "        \n",
    "        shuffled_df = in_df.sample(frac=1, random_state=i)\n",
    "        split_index = int(shuffled_df.shape[0] * 0.8)\n",
    "        train_df = shuffled_df.iloc[0:split_index, :]\n",
    "        test_df = shuffled_df.iloc[split_index:, :]\n",
    "        \n",
    "        overall_mean = train_df['overall'].mean()\n",
    "        \n",
    "        #calculate item biases (overall_mean - item_mean)\n",
    "        item_means = train_df.groupby('asin').mean()\n",
    "        item_biases = item_means['overall'] - overall_mean\n",
    "        \n",
    "        #calculate user biases (overall_mean - user_mean)\n",
    "        user_means = train_df.groupby('reviewerID').mean()\n",
    "        user_biases = user_means['overall'] - overall_mean\n",
    "        \n",
    "        #apply below function to each row in test_df\n",
    "        def calc_abs_error(row):\n",
    "            asin = row['asin']\n",
    "            reviewerID = row['reviewerID']\n",
    "            rating_actual = row['overall']\n",
    "            \n",
    "            user_bias = user_biases[reviewerID]\n",
    "            item_bias = item_biases[asin]\n",
    "            \n",
    "            rating_predicted = overall_mean + user_bias + item_bias\n",
    "            abs_error = abs(rating_predicted - rating_actual)\n",
    "            return abs_error\n",
    "        \n",
    "        #for each element in 'test', calculuate the squared error \n",
    "        errors = test_df.apply(func = calc_abs_error, axis = 1)\n",
    "        \n",
    "        #calculate rmse and append\n",
    "        mae = errors.mean()\n",
    "        mae_list.append(mae)\n",
    "        \n",
    "    return np.array(mae_list)"
   ]
  },
  {
   "cell_type": "code",
   "execution_count": 9,
   "metadata": {},
   "outputs": [
    {
     "name": "stdout",
     "output_type": "stream",
     "text": [
      "[ 0.756029    0.75479449  0.75552996  0.75543144  0.75329674  0.75562502\n",
      "  0.75512825  0.75683688  0.75204121  0.75507519  0.75528974  0.7506307\n",
      "  0.75588675  0.75675203  0.75151118  0.75561348  0.75537656  0.75696609\n",
      "  0.75820987  0.75841913]\n"
     ]
    }
   ],
   "source": [
    "use_pretrained = True\n",
    "\n",
    "if use_pretrained:\n",
    "    with open(os.path.join(data_path, 'results_man_baseline.array'), 'rb') as file_in:\n",
    "        mae_list = pkl.load(file_in)\n",
    "else:\n",
    "    mae_list = bias_baseline(df_100, in_tests = 20)\n",
    "    with open(os.path.join(data_path, 'results_man_baseline.array'), 'wb') as file_out:\n",
    "          pkl.dump(mae_list, file_out)\n",
    "        \n",
    "print(mae_list)"
   ]
  },
  {
   "cell_type": "code",
   "execution_count": 10,
   "metadata": {},
   "outputs": [
    {
     "data": {
      "text/plain": [
       "<matplotlib.axes._subplots.AxesSubplot at 0x11c42cba8>"
      ]
     },
     "execution_count": 10,
     "metadata": {},
     "output_type": "execute_result"
    },
    {
     "data": {
      "image/png": "[encoded data removed]",
      "text/plain": [
       "<matplotlib.figure.Figure at 0x11c420fd0>"
      ]
     },
     "metadata": {},
     "output_type": "display_data"
    }
   ],
   "source": [
    "pd.Series(mae_list).plot(kind = 'box')"
   ]
  },
  {
   "cell_type": "markdown",
   "metadata": {
    "collapsed": true
   },
   "source": [
    "# Runtimes"
   ]
  },
  {
   "cell_type": "code",
   "execution_count": 14,
   "metadata": {
    "collapsed": true
   },
   "outputs": [],
   "source": [
    "df_list = [df_10, df_25, df_50, df_100]\n",
    "\n",
    "use_pretrained = False\n",
    "\n",
    "if use_pretrained:\n",
    "    with open(os.path.join(data_path, 'runtime_baseline_manual.list'), 'rb') as file_in:\n",
    "        runtime_list = pkl.load(file_in)\n",
    "else:\n",
    "    runtime_list = list()\n",
    "    for df in df_list:\n",
    "\n",
    "        start = time.time()\n",
    "        bias_baseline(df_100, in_tests = 1)\n",
    "        end = time.time()\n",
    "\n",
    "        runtime_list.append(end-start)\n",
    "\n",
    "    with open(os.path.join(data_path, 'runtime_baseline_manual.list'), 'wb') as file_out:\n",
    "        pkl.dump(runtime_list, file_out)"
   ]
  },
  {
   "cell_type": "code",
   "execution_count": 17,
   "metadata": {},
   "outputs": [
    {
     "data": {
      "image/png": "[encoded data removed]",
      "text/plain": [
       "<matplotlib.figure.Figure at 0x119a23978>"
      ]
     },
     "metadata": {},
     "output_type": "display_data"
    }
   ],
   "source": [
    "n_reviews_list = [len(df) for df in df_list]\n",
    "plt.figure(figsize = (10, 5))\n",
    "plt.plot(n_reviews_list, runtime_list)\n",
    "plt.scatter(n_reviews_list, runtime_list, color = 'red')\n",
    "plt.ylim(0, 10)\n",
    "plt.xlim(0, 500000)\n",
    "plt.xlabel('Number of reviews')\n",
    "plt.ylabel('Training time (seconds)')\n",
    "plt.title('Training time vs input size')\n",
    "plt.tight_layout()"
   ]
  },
  {
   "cell_type": "code",
   "execution_count": null,
   "metadata": {
    "collapsed": true
   },
   "outputs": [],
   "source": []
  }
 ],
 "metadata": {
  "kernelspec": {
   "display_name": "Python 3",
   "language": "python",
   "name": "python3"
  },
  "language_info": {
   "codemirror_mode": {
    "name": "ipython",
    "version": 3
   },
   "file_extension": ".py",
   "mimetype": "text/x-python",
   "name": "python",
   "nbconvert_exporter": "python",
   "pygments_lexer": "ipython3",
   "version": "3.6.1"
  }
 },
 "nbformat": 4,
 "nbformat_minor": 2
}
